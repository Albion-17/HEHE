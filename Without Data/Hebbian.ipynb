{
 "cells": [
  {
   "cell_type": "code",
   "execution_count": 2,
   "id": "edcdf061-02dd-445f-8fc7-60052b41f606",
   "metadata": {},
   "outputs": [],
   "source": [
    "# Hebbian Learning"
   ]
  },
  {
   "cell_type": "code",
   "execution_count": 4,
   "id": "91165f13-f62f-4f6d-a5a7-76fe248dcec1",
   "metadata": {},
   "outputs": [],
   "source": [
    "import numpy as np  \n",
    "import pandas as pd"
   ]
  },
  {
   "cell_type": "code",
   "execution_count": 6,
   "id": "ba03432b-f1e8-403a-b0d9-19683bbd8a6b",
   "metadata": {},
   "outputs": [],
   "source": [
    "w = np.array([1, -1, 0, 0.5]),  \n",
    "Xi = [ \n",
    "    np.array([1, -2, 1.5, 0]), \n",
    "    np.array([1, -0.5, -2, -1.5]), \n",
    "    np.array([0, 1, -1, 1.5]) \n",
    "] \n",
    "C = 1  \n",
    "Iteration = 0  "
   ]
  },
  {
   "cell_type": "code",
   "execution_count": 8,
   "id": "e5f0d36c-3f3e-40d2-818a-30d829ac6f43",
   "metadata": {},
   "outputs": [
    {
     "name": "stdout",
     "output_type": "stream",
     "text": [
      "(array([ 1. , -1. ,  0. ,  0.5]),)\n",
      "[array([ 1. , -2. ,  1.5,  0. ]), array([ 1. , -0.5, -2. , -1.5]), array([ 0. ,  1. , -1. ,  1.5])]\n"
     ]
    }
   ],
   "source": [
    "print(w) \n",
    "print(Xi)"
   ]
  },
  {
   "cell_type": "code",
   "execution_count": 10,
   "id": "fe088e40-2a0f-4304-814d-53befd9fdc93",
   "metadata": {},
   "outputs": [
    {
     "name": "stdout",
     "output_type": "stream",
     "text": [
      "Iteration 0: Weight vector = [[ 2.  -3.   1.5  0.5]]\n",
      "Iteration 1: Weight vector = [[ 1.  -2.5  3.5  2. ]]\n",
      "Iteration 2: Weight vector = [[ 1.  -3.5  4.5  0.5]]\n"
     ]
    }
   ],
   "source": [
    "for i in range(len(Xi)): \n",
    "    net = np.dot(w, Xi[i])  \n",
    "    Fnet = np.sign(net)  \n",
    "    dw = C * Fnet * Xi[i]  \n",
    "    w += dw  \n",
    "    \n",
    "    print(f'Iteration {Iteration}: Weight vector = {w}') \n",
    "    Iteration += 1  "
   ]
  },
  {
   "cell_type": "code",
   "execution_count": 12,
   "id": "d00ec34f-150a-4ab5-a140-2fbf2dd91da5",
   "metadata": {},
   "outputs": [
    {
     "name": "stdout",
     "output_type": "stream",
     "text": [
      "Final weight matrix: [[ 1.  -3.5  4.5  0.5]]\n",
      "Number of iterations: 3\n"
     ]
    }
   ],
   "source": [
    "print(\"Final weight matrix:\", w)  \n",
    "print(\"Number of iterations:\", Iteration)"
   ]
  },
  {
   "cell_type": "code",
   "execution_count": null,
   "id": "32e3c3ed-7867-414f-a6df-169cf8d35da5",
   "metadata": {},
   "outputs": [],
   "source": []
  }
 ],
 "metadata": {
  "kernelspec": {
   "display_name": "Python [conda env:base] *",
   "language": "python",
   "name": "conda-base-py"
  },
  "language_info": {
   "codemirror_mode": {
    "name": "ipython",
    "version": 3
   },
   "file_extension": ".py",
   "mimetype": "text/x-python",
   "name": "python",
   "nbconvert_exporter": "python",
   "pygments_lexer": "ipython3",
   "version": "3.12.7"
  }
 },
 "nbformat": 4,
 "nbformat_minor": 5
}
